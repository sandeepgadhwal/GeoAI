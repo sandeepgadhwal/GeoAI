{
 "cells": [
  {
   "cell_type": "code",
   "execution_count": 1,
   "metadata": {},
   "outputs": [],
   "source": [
    "%load_ext autoreload\n",
    "%autoreload 2"
   ]
  },
  {
   "cell_type": "code",
   "execution_count": 2,
   "metadata": {},
   "outputs": [],
   "source": [
    "from geoai.data.utils import Image, ImageTileIndexer\n",
    "from osgeo import gdal\n",
    "from pathlib import Path"
   ]
  },
  {
   "cell_type": "code",
   "execution_count": null,
   "metadata": {},
   "outputs": [],
   "source": []
  },
  {
   "cell_type": "code",
   "execution_count": 3,
   "metadata": {},
   "outputs": [],
   "source": [
    "tile_size = 512\n",
    "batch_size = 8\n",
    "padding = 128"
   ]
  },
  {
   "cell_type": "code",
   "execution_count": 8,
   "metadata": {},
   "outputs": [],
   "source": [
    "image_path = Path('/home/sandeep/workspace/data/human-settlements/valid/bengaluru/S2A_MSIL2A_20220329T050701_N9999_R019_T43PGQ_20221218T094106.SAFE')\n",
    "im = Image.from_path(f'{image_path}/MTD_MSIL2A.xml')\n",
    "image = Image.from_path(im.ds.GetSubDatasets()[-1][0])"
   ]
  },
  {
   "cell_type": "code",
   "execution_count": 9,
   "metadata": {},
   "outputs": [],
   "source": [
    "indexer = ImageTileIndexer(image, tile_size)"
   ]
  },
  {
   "cell_type": "code",
   "execution_count": 11,
   "metadata": {},
   "outputs": [
    {
     "data": {
      "text/plain": [
       "0"
      ]
     },
     "execution_count": 11,
     "metadata": {},
     "output_type": "execute_result"
    }
   ],
   "source": [
    "out_path = f\"/home/sandeep/workspace/Tasks/Task-4-human-settlements/inference_test/{image_path.stem}.tif\"\n",
    "ds = gdal.GetDriverByName(\"Gtiff\").Create(\n",
    "    out_path, image.width, image.height, bands=1, eType=gdal.GDT_Byte\n",
    ")\n",
    "ds.SetGeoTransform(image.ds.GetGeoTransform())\n",
    "ds.SetSpatialRef(image.ds.GetSpatialRef())\n",
    "band = ds.GetRasterBand(1)\n",
    "band.SetNoDataValue(0)"
   ]
  },
  {
   "cell_type": "code",
   "execution_count": null,
   "metadata": {},
   "outputs": [],
   "source": []
  },
  {
   "cell_type": "code",
   "execution_count": 13,
   "metadata": {},
   "outputs": [],
   "source": [
    "for i, tile_info in enumerate(indexer):\n",
    "    pass"
   ]
  },
  {
   "cell_type": "code",
   "execution_count": null,
   "metadata": {},
   "outputs": [],
   "source": [
    "tile_info"
   ]
  },
  {
   "cell_type": "code",
   "execution_count": null,
   "metadata": {},
   "outputs": [],
   "source": []
  },
  {
   "cell_type": "code",
   "execution_count": null,
   "metadata": {},
   "outputs": [],
   "source": []
  }
 ],
 "metadata": {
  "kernelspec": {
   "display_name": "geoai",
   "language": "python",
   "name": "python3"
  },
  "language_info": {
   "codemirror_mode": {
    "name": "ipython",
    "version": 3
   },
   "file_extension": ".py",
   "mimetype": "text/x-python",
   "name": "python",
   "nbconvert_exporter": "python",
   "pygments_lexer": "ipython3",
   "version": "3.10.12"
  },
  "orig_nbformat": 4
 },
 "nbformat": 4,
 "nbformat_minor": 2
}
