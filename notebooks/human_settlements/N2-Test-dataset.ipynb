{
 "cells": [
  {
   "cell_type": "code",
   "execution_count": 1,
   "metadata": {},
   "outputs": [],
   "source": [
    "%load_ext autoreload\n",
    "%autoreload 2"
   ]
  },
  {
   "cell_type": "code",
   "execution_count": null,
   "metadata": {},
   "outputs": [],
   "source": []
  },
  {
   "cell_type": "code",
   "execution_count": 3,
   "metadata": {},
   "outputs": [],
   "source": [
    "from geoai.data.human_settlements import HumanSettlementsDataset"
   ]
  },
  {
   "cell_type": "code",
   "execution_count": null,
   "metadata": {},
   "outputs": [],
   "source": []
  },
  {
   "cell_type": "code",
   "execution_count": 5,
   "metadata": {},
   "outputs": [
    {
     "ename": "TypeError",
     "evalue": "object of type 'HumanSettlementsTile' has no len()",
     "output_type": "error",
     "traceback": [
      "\u001b[0;31m---------------------------------------------------------------------------\u001b[0m",
      "\u001b[0;31mTypeError\u001b[0m                                 Traceback (most recent call last)",
      "Cell \u001b[0;32mIn[5], line 1\u001b[0m\n\u001b[0;32m----> 1\u001b[0m dataset \u001b[39m=\u001b[39m HumanSettlementsDataset(\u001b[39m'\u001b[39m\u001b[39m/home/sandeep/workspace/data/human-settlements\u001b[39m\u001b[39m'\u001b[39m)\n",
      "File \u001b[0;32m~/workspace/codebase/GeoAI/src/geoai/data/human_settlements/__init__.py:10\u001b[0m, in \u001b[0;36mHumanSettlementsDataset.__init__\u001b[0;34m(self, data_folder)\u001b[0m\n\u001b[1;32m      8\u001b[0m \u001b[39mfor\u001b[39;00m sentinel_scene \u001b[39min\u001b[39;00m Path(data_folder)\u001b[39m.\u001b[39mglob(\u001b[39m'\u001b[39m\u001b[39m*.SAFE\u001b[39m\u001b[39m'\u001b[39m):\n\u001b[1;32m      9\u001b[0m     datasets\u001b[39m.\u001b[39mappend(HumanSettlementsTile(sentinel_scene, sentinel_scene\u001b[39m.\u001b[39mwith_suffix(\u001b[39m'\u001b[39m\u001b[39m.gpkg\u001b[39m\u001b[39m'\u001b[39m)))\n\u001b[0;32m---> 10\u001b[0m \u001b[39msuper\u001b[39m()\u001b[39m.\u001b[39m\u001b[39m__init__\u001b[39m(datasets)\n",
      "File \u001b[0;32m~/miniconda3/envs/geoai/lib/python3.11/site-packages/torch/utils/data/dataset.py:228\u001b[0m, in \u001b[0;36mConcatDataset.__init__\u001b[0;34m(self, datasets)\u001b[0m\n\u001b[1;32m    226\u001b[0m \u001b[39mfor\u001b[39;00m d \u001b[39min\u001b[39;00m \u001b[39mself\u001b[39m\u001b[39m.\u001b[39mdatasets:\n\u001b[1;32m    227\u001b[0m     \u001b[39massert\u001b[39;00m \u001b[39mnot\u001b[39;00m \u001b[39misinstance\u001b[39m(d, IterableDataset), \u001b[39m\"\u001b[39m\u001b[39mConcatDataset does not support IterableDataset\u001b[39m\u001b[39m\"\u001b[39m\n\u001b[0;32m--> 228\u001b[0m \u001b[39mself\u001b[39m\u001b[39m.\u001b[39mcumulative_sizes \u001b[39m=\u001b[39m \u001b[39mself\u001b[39m\u001b[39m.\u001b[39mcumsum(\u001b[39mself\u001b[39m\u001b[39m.\u001b[39mdatasets)\n",
      "File \u001b[0;32m~/miniconda3/envs/geoai/lib/python3.11/site-packages/torch/utils/data/dataset.py:217\u001b[0m, in \u001b[0;36mConcatDataset.cumsum\u001b[0;34m(sequence)\u001b[0m\n\u001b[1;32m    215\u001b[0m r, s \u001b[39m=\u001b[39m [], \u001b[39m0\u001b[39m\n\u001b[1;32m    216\u001b[0m \u001b[39mfor\u001b[39;00m e \u001b[39min\u001b[39;00m sequence:\n\u001b[0;32m--> 217\u001b[0m     l \u001b[39m=\u001b[39m \u001b[39mlen\u001b[39m(e)\n\u001b[1;32m    218\u001b[0m     r\u001b[39m.\u001b[39mappend(l \u001b[39m+\u001b[39m s)\n\u001b[1;32m    219\u001b[0m     s \u001b[39m+\u001b[39m\u001b[39m=\u001b[39m l\n",
      "\u001b[0;31mTypeError\u001b[0m: object of type 'HumanSettlementsTile' has no len()"
     ]
    }
   ],
   "source": [
    "dataset = HumanSettlementsDataset('/home/sandeep/workspace/data/human-settlements')"
   ]
  },
  {
   "cell_type": "code",
   "execution_count": null,
   "metadata": {},
   "outputs": [],
   "source": []
  },
  {
   "cell_type": "code",
   "execution_count": null,
   "metadata": {},
   "outputs": [],
   "source": []
  }
 ],
 "metadata": {
  "kernelspec": {
   "display_name": "geoai",
   "language": "python",
   "name": "python3"
  },
  "language_info": {
   "codemirror_mode": {
    "name": "ipython",
    "version": 3
   },
   "file_extension": ".py",
   "mimetype": "text/x-python",
   "name": "python",
   "nbconvert_exporter": "python",
   "pygments_lexer": "ipython3",
   "version": "3.11.4"
  },
  "orig_nbformat": 4
 },
 "nbformat": 4,
 "nbformat_minor": 2
}
