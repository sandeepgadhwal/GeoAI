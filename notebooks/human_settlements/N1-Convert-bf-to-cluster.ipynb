{
 "cells": [
  {
   "cell_type": "code",
   "execution_count": 1,
   "metadata": {},
   "outputs": [],
   "source": [
    "%load_ext autoreload\n",
    "%autoreload 2"
   ]
  },
  {
   "cell_type": "code",
   "execution_count": null,
   "metadata": {},
   "outputs": [],
   "source": []
  },
  {
   "cell_type": "code",
   "execution_count": 2,
   "metadata": {},
   "outputs": [],
   "source": [
    "from geoai.data.image import Image"
   ]
  },
  {
   "cell_type": "code",
   "execution_count": 3,
   "metadata": {},
   "outputs": [],
   "source": [
    "from osgeo import gdal\n",
    "from pathlib import Path"
   ]
  },
  {
   "cell_type": "code",
   "execution_count": null,
   "metadata": {},
   "outputs": [],
   "source": []
  },
  {
   "cell_type": "code",
   "execution_count": 4,
   "metadata": {},
   "outputs": [
    {
     "name": "stderr",
     "output_type": "stream",
     "text": [
      "/home/sandeep/miniconda3/envs/geoai/lib/python3.11/site-packages/geopandas/_compat.py:124: UserWarning: The Shapely GEOS version (3.11.1-CAPI-1.17.1) is incompatible with the GEOS version PyGEOS was compiled with (3.10.4-CAPI-1.16.2). Conversions between both will be slow.\n",
      "  warnings.warn(\n"
     ]
    }
   ],
   "source": [
    "from geoai.data.human_settlements import create_clusters_from_building_footprints"
   ]
  },
  {
   "cell_type": "code",
   "execution_count": null,
   "metadata": {},
   "outputs": [],
   "source": []
  },
  {
   "cell_type": "code",
   "execution_count": 5,
   "metadata": {},
   "outputs": [],
   "source": [
    "scene = Path('/home/sandeep/workspace/data/human-settlements/S2B_MSIL2A_20230518T050659_N0509_R019_T43PGQ_20230518T091909.SAFE')"
   ]
  },
  {
   "cell_type": "code",
   "execution_count": 6,
   "metadata": {},
   "outputs": [],
   "source": [
    "ds = gdal.Open(f'{scene}/MTD_MSIL2A.xml')\n",
    "ds_RGB = gdal.Open(ds.GetSubDatasets()[-1][0])\n",
    "im = Image.from_gdal(ds_RGB)"
   ]
  },
  {
   "cell_type": "code",
   "execution_count": 7,
   "metadata": {},
   "outputs": [
    {
     "data": {
      "image/svg+xml": [
       "<svg xmlns=\"http://www.w3.org/2000/svg\" xmlns:xlink=\"http://www.w3.org/1999/xlink\" width=\"100.0\" height=\"100.0\" viewBox=\"76.79968095026668 12.519551143290627 1.1030399986161683 1.0829145781623684\" preserveAspectRatio=\"xMinYMin meet\"><g transform=\"matrix(1,0,0,-1,0,26.12201686474362)\"><path fill-rule=\"evenodd\" fill=\"#66cc99\" stroke=\"#555555\" stroke-width=\"0.022060799972323367\" opacity=\"0.6\" d=\"M 77.85046693601144,12.560404476572707 L 77.86186761560076,13.552049447678353 L 76.84790278494619,13.561612388170916 L 76.84053428354876,12.569244694400812 L 77.85046693601144,12.560404476572707 z\" /></g></svg>"
      ],
      "text/plain": [
       "<POLYGON ((77.85 12.56, 77.862 13.552, 76.848 13.562, 76.841 12.569, 77.85 1...>"
      ]
     },
     "execution_count": 7,
     "metadata": {},
     "output_type": "execute_result"
    }
   ],
   "source": [
    "im.bbox_4326"
   ]
  },
  {
   "cell_type": "code",
   "execution_count": null,
   "metadata": {},
   "outputs": [],
   "source": []
  },
  {
   "cell_type": "code",
   "execution_count": 8,
   "metadata": {},
   "outputs": [
    {
     "name": "stdout",
     "output_type": "stream",
     "text": [
      "Read files [PosixPath('/home/sandeep/workspace/data/google-building-footprints/v3/feather/3bb_buildings_29000000_30000000.feather'), PosixPath('/home/sandeep/workspace/data/google-building-footprints/v3/feather/3bb_buildings_23000000_24000000.feather'), PosixPath('/home/sandeep/workspace/data/google-building-footprints/v3/feather/3bb_buildings_38000000_39000000.feather'), PosixPath('/home/sandeep/workspace/data/google-building-footprints/v3/feather/3bb_buildings_3000000_4000000.feather'), PosixPath('/home/sandeep/workspace/data/google-building-footprints/v3/feather/3bb_buildings_20000000_21000000.feather'), PosixPath('/home/sandeep/workspace/data/google-building-footprints/v3/feather/3bb_buildings_6000000_7000000.feather'), PosixPath('/home/sandeep/workspace/data/google-building-footprints/v3/feather/3bb_buildings_22000000_23000000.feather'), PosixPath('/home/sandeep/workspace/data/google-building-footprints/v3/feather/3bb_buildings_26000000_27000000.feather'), PosixPath('/home/sandeep/workspace/data/google-building-footprints/v3/feather/3bb_buildings_34000000_35000000.feather'), PosixPath('/home/sandeep/workspace/data/google-building-footprints/v3/feather/3bb_buildings_15000000_16000000.feather'), PosixPath('/home/sandeep/workspace/data/google-building-footprints/v3/feather/3bb_buildings_18000000_19000000.feather'), PosixPath('/home/sandeep/workspace/data/google-building-footprints/v3/feather/3bb_buildings_27000000_28000000.feather'), PosixPath('/home/sandeep/workspace/data/google-building-footprints/v3/feather/3bb_buildings_1000000_2000000.feather'), PosixPath('/home/sandeep/workspace/data/google-building-footprints/v3/feather/3bb_buildings_25000000_26000000.feather'), PosixPath('/home/sandeep/workspace/data/google-building-footprints/v3/feather/3bb_buildings_41000000_42000000.feather'), PosixPath('/home/sandeep/workspace/data/google-building-footprints/v3/feather/3bb_buildings_7000000_8000000.feather'), PosixPath('/home/sandeep/workspace/data/google-building-footprints/v3/feather/3bb_buildings_10000000_11000000.feather'), PosixPath('/home/sandeep/workspace/data/google-building-footprints/v3/feather/3bb_buildings_12000000_13000000.feather'), PosixPath('/home/sandeep/workspace/data/google-building-footprints/v3/feather/3bb_buildings_13000000_14000000.feather'), PosixPath('/home/sandeep/workspace/data/google-building-footprints/v3/feather/3bb_buildings_21000000_22000000.feather'), PosixPath('/home/sandeep/workspace/data/google-building-footprints/v3/feather/3bb_buildings_16000000_17000000.feather'), PosixPath('/home/sandeep/workspace/data/google-building-footprints/v3/feather/3bb_buildings_19000000_20000000.feather'), PosixPath('/home/sandeep/workspace/data/google-building-footprints/v3/feather/3bb_buildings_17000000_18000000.feather'), PosixPath('/home/sandeep/workspace/data/google-building-footprints/v3/feather/3bb_buildings_39000000_40000000.feather'), PosixPath('/home/sandeep/workspace/data/google-building-footprints/v3/feather/3bb_buildings_33000000_34000000.feather'), PosixPath('/home/sandeep/workspace/data/google-building-footprints/v3/feather/3bb_buildings_40000000_41000000.feather'), PosixPath('/home/sandeep/workspace/data/google-building-footprints/v3/feather/3bb_buildings_36000000_37000000.feather'), PosixPath('/home/sandeep/workspace/data/google-building-footprints/v3/feather/3bb_buildings_5000000_6000000.feather'), PosixPath('/home/sandeep/workspace/data/google-building-footprints/v3/feather/3bb_buildings_37000000_38000000.feather'), PosixPath('/home/sandeep/workspace/data/google-building-footprints/v3/feather/3bb_buildings_35000000_36000000.feather'), PosixPath('/home/sandeep/workspace/data/google-building-footprints/v3/feather/3bb_buildings_2000000_3000000.feather'), PosixPath('/home/sandeep/workspace/data/google-building-footprints/v3/feather/3bb_buildings_8000000_9000000.feather'), PosixPath('/home/sandeep/workspace/data/google-building-footprints/v3/feather/3bb_buildings_11000000_12000000.feather'), PosixPath('/home/sandeep/workspace/data/google-building-footprints/v3/feather/3bb_buildings_31000000_32000000.feather'), PosixPath('/home/sandeep/workspace/data/google-building-footprints/v3/feather/3bb_buildings_32000000_33000000.feather'), PosixPath('/home/sandeep/workspace/data/google-building-footprints/v3/feather/3bb_buildings_24000000_25000000.feather'), PosixPath('/home/sandeep/workspace/data/google-building-footprints/v3/feather/3bb_buildings_0_1000000.feather'), PosixPath('/home/sandeep/workspace/data/google-building-footprints/v3/feather/3bb_buildings_9000000_10000000.feather'), PosixPath('/home/sandeep/workspace/data/google-building-footprints/v3/feather/3bb_buildings_28000000_29000000.feather'), PosixPath('/home/sandeep/workspace/data/google-building-footprints/v3/feather/3bb_buildings_14000000_15000000.feather'), PosixPath('/home/sandeep/workspace/data/google-building-footprints/v3/feather/3bb_buildings_30000000_31000000.feather'), PosixPath('/home/sandeep/workspace/data/google-building-footprints/v3/feather/3bb_buildings_4000000_5000000.feather')]\n"
     ]
    },
    {
     "name": "stdout",
     "output_type": "stream",
     "text": [
      "Project\n",
      "Buffer\n",
      "Flatten out clusters\n"
     ]
    },
    {
     "ename": "",
     "evalue": "",
     "output_type": "error",
     "traceback": [
      "\u001b[1;31mCannot execute code, session has been disposed. Please try restarting the Kernel."
     ]
    },
    {
     "ename": "",
     "evalue": "",
     "output_type": "error",
     "traceback": [
      "\u001b[1;31mThe Kernel crashed while executing code in the the current cell or a previous cell. Please review the code in the cell(s) to identify a possible cause of the failure. Click <a href='https://aka.ms/vscodeJupyterKernelCrash'>here</a> for more info. View Jupyter <a href='command:jupyter.viewOutput'>log</a> for further details."
     ]
    }
   ],
   "source": [
    "gdf_cluster = create_clusters_from_building_footprints(Path('/home/sandeep/workspace/data/google-building-footprints'), im.bbox, im.crs)"
   ]
  },
  {
   "cell_type": "code",
   "execution_count": null,
   "metadata": {},
   "outputs": [
    {
     "data": {
      "text/html": [
       "<div>\n",
       "<style scoped>\n",
       "    .dataframe tbody tr th:only-of-type {\n",
       "        vertical-align: middle;\n",
       "    }\n",
       "\n",
       "    .dataframe tbody tr th {\n",
       "        vertical-align: top;\n",
       "    }\n",
       "\n",
       "    .dataframe thead th {\n",
       "        text-align: right;\n",
       "    }\n",
       "</style>\n",
       "<table border=\"1\" class=\"dataframe\">\n",
       "  <thead>\n",
       "    <tr style=\"text-align: right;\">\n",
       "      <th></th>\n",
       "      <th>geometry</th>\n",
       "    </tr>\n",
       "  </thead>\n",
       "  <tbody>\n",
       "    <tr>\n",
       "      <th>2</th>\n",
       "      <td>POLYGON ((257027.555 2192167.455, 257027.560 2...</td>\n",
       "    </tr>\n",
       "    <tr>\n",
       "      <th>4</th>\n",
       "      <td>POLYGON ((256624.256 2192786.587, 256624.215 2...</td>\n",
       "    </tr>\n",
       "    <tr>\n",
       "      <th>25</th>\n",
       "      <td>POLYGON ((254304.582 2194890.402, 254304.695 2...</td>\n",
       "    </tr>\n",
       "    <tr>\n",
       "      <th>26</th>\n",
       "      <td>POLYGON ((255011.742 2194526.224, 255012.578 2...</td>\n",
       "    </tr>\n",
       "    <tr>\n",
       "      <th>30</th>\n",
       "      <td>POLYGON ((255191.554 2193985.383, 255191.691 2...</td>\n",
       "    </tr>\n",
       "  </tbody>\n",
       "</table>\n",
       "</div>"
      ],
      "text/plain": [
       "                                             geometry\n",
       "2   POLYGON ((257027.555 2192167.455, 257027.560 2...\n",
       "4   POLYGON ((256624.256 2192786.587, 256624.215 2...\n",
       "25  POLYGON ((254304.582 2194890.402, 254304.695 2...\n",
       "26  POLYGON ((255011.742 2194526.224, 255012.578 2...\n",
       "30  POLYGON ((255191.554 2193985.383, 255191.691 2..."
      ]
     },
     "execution_count": 21,
     "metadata": {},
     "output_type": "execute_result"
    }
   ],
   "source": [
    "gdf_cluster.head()"
   ]
  },
  {
   "cell_type": "code",
   "execution_count": null,
   "metadata": {},
   "outputs": [],
   "source": [
    "gdf_cluster.to_feather(scene.with_suffix('.feather'))"
   ]
  },
  {
   "cell_type": "code",
   "execution_count": null,
   "metadata": {},
   "outputs": [],
   "source": [
    "gdf_cluster.to_file(scene.with_suffix('.gpkg'))"
   ]
  },
  {
   "cell_type": "code",
   "execution_count": null,
   "metadata": {},
   "outputs": [],
   "source": []
  },
  {
   "cell_type": "code",
   "execution_count": null,
   "metadata": {},
   "outputs": [],
   "source": []
  },
  {
   "cell_type": "code",
   "execution_count": null,
   "metadata": {},
   "outputs": [],
   "source": []
  }
 ],
 "metadata": {
  "kernelspec": {
   "display_name": "geoai",
   "language": "python",
   "name": "python3"
  },
  "language_info": {
   "codemirror_mode": {
    "name": "ipython",
    "version": 3
   },
   "file_extension": ".py",
   "mimetype": "text/x-python",
   "name": "python",
   "nbconvert_exporter": "python",
   "pygments_lexer": "ipython3",
   "version": "3.11.4"
  },
  "orig_nbformat": 4
 },
 "nbformat": 4,
 "nbformat_minor": 2
}
