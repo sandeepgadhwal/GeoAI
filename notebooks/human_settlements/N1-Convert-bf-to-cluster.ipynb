{
 "cells": [
  {
   "cell_type": "code",
   "execution_count": 1,
   "metadata": {},
   "outputs": [],
   "source": [
    "%load_ext autoreload\n",
    "%autoreload 2"
   ]
  },
  {
   "cell_type": "code",
   "execution_count": null,
   "metadata": {},
   "outputs": [],
   "source": []
  },
  {
   "cell_type": "code",
   "execution_count": 2,
   "metadata": {},
   "outputs": [],
   "source": [
    "from geoai.data.human_settlements.utils import get_human_settlements_from_sentinel_image\n",
    "from pathlib import Path"
   ]
  },
  {
   "cell_type": "code",
   "execution_count": null,
   "metadata": {},
   "outputs": [],
   "source": []
  },
  {
   "cell_type": "code",
   "execution_count": 3,
   "metadata": {},
   "outputs": [
    {
     "name": "stdout",
     "output_type": "stream",
     "text": [
      "-- Progress: 0/25 |  /home/sandeep/workspace/data/human-settlements/valid/nagpur/S2A_MSIL2A_20220418T050701_N9999_R019_T44QLJ_20221219T214342.SAFE\n",
      "-- Progress: 1/25 |  /home/sandeep/workspace/data/human-settlements/valid/nagpur/S2A_MSIL2A_20220418T050701_N9999_R019_T44QKJ_20230116T162846.SAFE\n",
      "-- Progress: 2/25 |  /home/sandeep/workspace/data/human-settlements/valid/bengaluru/S2A_MSIL2A_20220329T050701_N9999_R019_T43PGQ_20221218T094106.SAFE\n",
      "Total windows : 121\n",
      "Reading total windows 121\n",
      "Read all windows: 121              \n",
      "Concat data\n",
      "Dissolve to merge windows, rows: 130319\n",
      "Reverse buffer, rows: 128650\n",
      "Remove stray buildings not visible in Sentinel, rows: 128650\n",
      "Done, rows: 8054\n",
      "-- Progress: 3/25 |  /home/sandeep/workspace/data/human-settlements/valid/vijayawada/S2A_MSIL2A_20230410T045701_N0509_R119_T44QMD_20230410T083556.SAFE\n",
      "Total windows : 121\n",
      "Reading total windows 132\n",
      "Read all windows: 132              \n",
      "Concat data\n",
      "Dissolve to merge windows, rows: 71066\n",
      "Reverse buffer, rows: 70185\n",
      "Remove stray buildings not visible in Sentinel, rows: 70185\n",
      "Done, rows: 3632\n",
      "-- Progress: 4/25 |  /home/sandeep/workspace/data/human-settlements/valid/mumbai/S2A_MSIL2A_20220318T053651_N0400_R005_T43QBB_20220318T083203.SAFE\n",
      "Total windows : 121\n",
      "Reading total windows 121\n",
      "Read all windows: 121              \n",
      "Concat data\n",
      "Dissolve to merge windows, rows: 44314\n",
      "Reverse buffer, rows: 43553\n",
      "Remove stray buildings not visible in Sentinel, rows: 43553\n",
      "Done, rows: 2894\n",
      "-- Progress: 5/25 |  /home/sandeep/workspace/data/human-settlements/train/chennai/S2A_MSIL2A_20230420T045701_N0509_R119_T44PLV_20230420T094902.SAFE\n",
      "-- Progress: 6/25 |  /home/sandeep/workspace/data/human-settlements/train/chennai/S2B_MSIL2A_20190615T045709_N9999_R119_T44PLV_20230506T074937.SAFE\n",
      "-- Progress: 7/25 |  /home/sandeep/workspace/data/human-settlements/train/chennai/S2B_MSIL2A_20190615T045709_N9999_R119_T44PMV_20230506T075004.SAFE\n",
      "-- Progress: 8/25 |  /home/sandeep/workspace/data/human-settlements/train/chennai/S2A_MSIL2A_20230331T045701_N0509_R119_T44PMV_20230331T084154.SAFE\n",
      "-- Progress: 9/25 |  /home/sandeep/workspace/data/human-settlements/train/bengaluru/S2A_MSIL2A_20230413T050651_N0509_R019_T43PGQ_20230413T102555.SAFE\n",
      "-- Progress: 10/25 |  /home/sandeep/workspace/data/human-settlements/train/bengaluru/S2B_MSIL2A_20190218T050849_N9999_R019_T43PGQ_20230425T181425.SAFE\n",
      "-- Progress: 11/25 |  /home/sandeep/workspace/data/human-settlements/train/jaipur/S2A_MSIL2A_20210119T053141_N0500_R105_T43REK_20230527T172345.SAFE\n",
      "-- Progress: 12/25 |  /home/sandeep/workspace/data/human-settlements/train/hyderabad/S2B_MSIL2A_20190529T050659_N9999_R019_T43QHV_20230503T183740.SAFE\n",
      "-- Progress: 13/25 |  /home/sandeep/workspace/data/human-settlements/train/hyderabad/S2A_MSIL2A_20230602T050701_N0509_R019_T43QHV_20230602T090153.SAFE\n",
      "-- Progress: 14/25 |  /home/sandeep/workspace/data/human-settlements/train/hyderabad/S2B_MSIL2A_20190529T050659_N9999_R019_T44QKE_20230503T183817.SAFE\n",
      "-- Progress: 15/25 |  /home/sandeep/workspace/data/human-settlements/train/hyderabad/S2B_MSIL2A_20230617T050659_N0509_R019_T44QKE_20230617T074954.SAFE\n",
      "-- Progress: 16/25 |  /home/sandeep/workspace/data/human-settlements/train/delhi/S2A_MSIL2A_20210330T052641_N0500_R105_T43RFM_20230528T202910.SAFE\n",
      "-- Progress: 17/25 |  /home/sandeep/workspace/data/human-settlements/train/delhi/S2B_MSIL2A_20210223T052819_N0500_R105_T43RGM_20230525T105235.SAFE\n",
      "-- Progress: 18/25 |  /home/sandeep/workspace/data/human-settlements/train/delhi/S2A_MSIL2A_20210330T052641_N0500_R105_T43RGM_20230528T202910.SAFE\n",
      "-- Progress: 19/25 |  /home/sandeep/workspace/data/human-settlements/train/delhi/S2B_MSIL2A_20210223T052819_N0500_R105_T43RFM_20230525T105235.SAFE\n",
      "-- Progress: 20/25 |  /home/sandeep/workspace/data/human-settlements/train/mumbai/S2A_MSIL2A_20230102T054231_N0509_R005_T43QBB_20230102T083154.SAFE\n",
      "-- Progress: 21/25 |  /home/sandeep/workspace/data/human-settlements/train/kolkata/S2A_MSIL2A_20230414T043701_N0509_R033_T45QXE_20230414T081154.SAFE\n",
      "-- Progress: 22/25 |  /home/sandeep/workspace/data/human-settlements/train/kolkata/S2B_MSIL2A_20190331T043709_N9999_R033_T45QXF_20230429T033843.SAFE\n",
      "-- Progress: 23/25 |  /home/sandeep/workspace/data/human-settlements/train/kolkata/S2B_MSIL2A_20230419T043659_N0509_R033_T45QXF_20230419T070837.SAFE\n",
      "-- Progress: 24/25 |  /home/sandeep/workspace/data/human-settlements/train/kolkata/S2B_MSIL2A_20190430T043709_N9999_R033_T45QXF_20230501T104558.SAFE\n"
     ]
    }
   ],
   "source": [
    "scenes = list(Path('/home/sandeep/workspace/data/human-settlements').glob('*/*/*.SAFE'))\n",
    "for i, scene in enumerate(scenes):\n",
    "    print(f\"-- Progress: {i}/{len(scenes)} | \", scene)\n",
    "    out_file = scene.with_suffix('.gpkg')\n",
    "    if not out_file.exists():\n",
    "        df = get_human_settlements_from_sentinel_image(scene)\n",
    "        if len(df) > 0:\n",
    "            df.to_file(out_file)"
   ]
  },
  {
   "cell_type": "code",
   "execution_count": null,
   "metadata": {},
   "outputs": [],
   "source": []
  },
  {
   "cell_type": "code",
   "execution_count": null,
   "metadata": {},
   "outputs": [],
   "source": []
  },
  {
   "cell_type": "code",
   "execution_count": null,
   "metadata": {},
   "outputs": [],
   "source": []
  },
  {
   "cell_type": "code",
   "execution_count": null,
   "metadata": {},
   "outputs": [],
   "source": []
  },
  {
   "cell_type": "code",
   "execution_count": null,
   "metadata": {},
   "outputs": [],
   "source": []
  }
 ],
 "metadata": {
  "kernelspec": {
   "display_name": "geoai",
   "language": "python",
   "name": "python3"
  },
  "language_info": {
   "codemirror_mode": {
    "name": "ipython",
    "version": 3
   },
   "file_extension": ".py",
   "mimetype": "text/x-python",
   "name": "python",
   "nbconvert_exporter": "python",
   "pygments_lexer": "ipython3",
   "version": "3.10.12"
  },
  "orig_nbformat": 4
 },
 "nbformat": 4,
 "nbformat_minor": 2
}
