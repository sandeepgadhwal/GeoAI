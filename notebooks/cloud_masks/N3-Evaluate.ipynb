{
 "cells": [
  {
   "cell_type": "code",
   "execution_count": 1,
   "metadata": {},
   "outputs": [],
   "source": [
    "\n",
    "import torch\n",
    "import numpy as np\n",
    "\n",
    "from mmengine.config import Config\n",
    "from mmengine.registry import MODELS\n",
    "from pathlib import Path\n",
    "from geoai.data.utils import Image\n",
    "from osgeo import gdal_array\n",
    "import shutil\n",
    "import tifffile"
   ]
  },
  {
   "cell_type": "code",
   "execution_count": null,
   "metadata": {},
   "outputs": [],
   "source": []
  },
  {
   "cell_type": "code",
   "execution_count": 2,
   "metadata": {},
   "outputs": [],
   "source": [
    "device = torch.device('cuda')"
   ]
  },
  {
   "cell_type": "code",
   "execution_count": null,
   "metadata": {},
   "outputs": [],
   "source": []
  },
  {
   "cell_type": "code",
   "execution_count": 3,
   "metadata": {},
   "outputs": [],
   "source": [
    "# load config\n",
    "cfg = Config.fromfile('../../configs/cloud_masks/deeplab.py')"
   ]
  },
  {
   "cell_type": "code",
   "execution_count": 4,
   "metadata": {},
   "outputs": [],
   "source": [
    "cfg['model']['data_preprocessor']['size'] = (1000, 1000)\n",
    "cfg['model']['test_cfg']['mode'] = 'whole'"
   ]
  },
  {
   "cell_type": "code",
   "execution_count": null,
   "metadata": {},
   "outputs": [],
   "source": []
  },
  {
   "cell_type": "code",
   "execution_count": 5,
   "metadata": {},
   "outputs": [
    {
     "name": "stderr",
     "output_type": "stream",
     "text": [
      "/home/sandeep/miniconda3/envs/geoai/lib/python3.10/site-packages/mmseg/models/backbones/resnet.py:431: UserWarning: DeprecationWarning: pretrained is a deprecated, please use \"init_cfg\" instead\n",
      "  warnings.warn('DeprecationWarning: pretrained is a deprecated, '\n",
      "/home/sandeep/miniconda3/envs/geoai/lib/python3.10/site-packages/mmseg/models/decode_heads/decode_head.py:120: UserWarning: For binary segmentation, we suggest using`out_channels = 1` to define the outputchannels of segmentor, and use `threshold`to convert `seg_logits` into a predictionapplying a threshold\n",
      "  warnings.warn('For binary segmentation, we suggest using'\n",
      "/home/sandeep/miniconda3/envs/geoai/lib/python3.10/site-packages/mmseg/models/builder.py:36: UserWarning: ``build_loss`` would be deprecated soon, please use ``mmseg.registry.MODELS.build()`` \n",
      "  warnings.warn('``build_loss`` would be deprecated soon, please use '\n",
      "/home/sandeep/miniconda3/envs/geoai/lib/python3.10/site-packages/mmseg/models/losses/cross_entropy_loss.py:235: UserWarning: Default ``avg_non_ignore`` is False, if you would like to ignore the certain label and average loss over non-ignore labels, which is the same with PyTorch official cross_entropy, set ``avg_non_ignore=True``.\n",
      "  warnings.warn(\n"
     ]
    }
   ],
   "source": [
    "model = MODELS.build(cfg['model'])"
   ]
  },
  {
   "cell_type": "code",
   "execution_count": null,
   "metadata": {},
   "outputs": [],
   "source": []
  },
  {
   "cell_type": "code",
   "execution_count": 6,
   "metadata": {},
   "outputs": [],
   "source": [
    "_ = model.to(device)"
   ]
  },
  {
   "cell_type": "code",
   "execution_count": 7,
   "metadata": {},
   "outputs": [
    {
     "data": {
      "text/plain": [
       "<All keys matched successfully>"
      ]
     },
     "execution_count": 7,
     "metadata": {},
     "output_type": "execute_result"
    }
   ],
   "source": [
    "checkpoint = '/home/sandeep/workspace/competitions/MaskingCloudsinSatelliteImageries/training/mmseg_test/iter_1080.pth'\n",
    "model.load_state_dict(torch.load(checkpoint)['state_dict'])"
   ]
  },
  {
   "cell_type": "code",
   "execution_count": null,
   "metadata": {},
   "outputs": [],
   "source": []
  },
  {
   "cell_type": "code",
   "execution_count": 8,
   "metadata": {},
   "outputs": [],
   "source": [
    "eval_images_path = '/home/sandeep/workspace/competitions/MaskingCloudsinSatelliteImageries/data/evaluation_true_color'\n",
    "eval_masks_path = '/home/sandeep/workspace/competitions/MaskingCloudsinSatelliteImageries/evaluation_mask'\n",
    "\n",
    "eval_images_path = Path(eval_images_path)\n",
    "eval_masks_path = Path(eval_masks_path)\n",
    "if eval_masks_path.exists():\n",
    "    shutil.rmtree(eval_masks_path)\n",
    "eval_masks_path.mkdir()"
   ]
  },
  {
   "cell_type": "code",
   "execution_count": 9,
   "metadata": {},
   "outputs": [],
   "source": [
    "# mean = torch.tensor([2315.3093, 2460.9182, 2424.4849], dtype=torch.float32, device=device).view(1, -1, 1, 1)\n",
    "# std = torch.tensor([1370.4095, 1372.0483, 1484.2986], dtype=torch.float32, device=device).view(1, -1, 1, 1)"
   ]
  },
  {
   "cell_type": "code",
   "execution_count": 10,
   "metadata": {},
   "outputs": [
    {
     "name": "stdout",
     "output_type": "stream",
     "text": [
      "-- Progress: 0/1000      \r"
     ]
    },
    {
     "name": "stderr",
     "output_type": "stream",
     "text": [
      "/home/sandeep/miniconda3/envs/geoai/lib/python3.10/site-packages/torch/nn/modules/conv.py:459: UserWarning: Applied workaround for CuDNN issue, install nvrtc.so (Triggered internally at /opt/conda/conda-bld/pytorch_1682343995026/work/aten/src/ATen/native/cudnn/Conv_v8.cpp:80.)\n",
      "  return F.conv2d(input, weight, bias, self.stride,\n",
      "/home/sandeep/miniconda3/envs/geoai/lib/python3.10/site-packages/mmseg/models/utils/wrappers.py:22: UserWarning: When align_corners=True, the output would more aligned if input size (125, 125) is `x+1` and out size (250, 250) is `nx+1`\n",
      "  warnings.warn(\n",
      "/home/sandeep/miniconda3/envs/geoai/lib/python3.10/site-packages/mmseg/models/utils/wrappers.py:22: UserWarning: When align_corners=True, the output would more aligned if input size (250, 250) is `x+1` and out size (1000, 1000) is `nx+1`\n",
      "  warnings.warn(\n"
     ]
    },
    {
     "name": "stdout",
     "output_type": "stream",
     "text": [
      "-- Progress: 999/1000      \r"
     ]
    }
   ],
   "source": [
    "model.eval()\n",
    "eval_images = list(eval_images_path.glob('*.tif'))\n",
    "for i, image in enumerate(eval_images):\n",
    "    print(f\"-- Progress: {i}/{len(eval_images)}\", \" \"*5, end='\\r')\n",
    "    x = Image.from_path(image).data.astype(np.float32)[None]\n",
    "    x = torch.tensor(x)\n",
    "    x = model.data_preprocessor({'inputs': x})['inputs']\n",
    "    with torch.no_grad():\n",
    "        y = model.predict(x)[0].pred_sem_seg\n",
    "    mask = y.data.cpu().numpy().squeeze().astype(np.uint8)\n",
    "    out_file = eval_masks_path / f\"evaluation_mask_{image.stem.split('_')[-1]}.tif\"\n",
    "    tifffile.imwrite(out_file, mask)\n",
    "    # ds = gdal_array.OpenArray(mask)\n",
    "    # Image.from_gdal(ds).save(out_file)\n",
    "    # del ds"
   ]
  },
  {
   "cell_type": "code",
   "execution_count": null,
   "metadata": {},
   "outputs": [],
   "source": []
  },
  {
   "cell_type": "code",
   "execution_count": null,
   "metadata": {},
   "outputs": [],
   "source": []
  },
  {
   "cell_type": "code",
   "execution_count": null,
   "metadata": {},
   "outputs": [],
   "source": []
  }
 ],
 "metadata": {
  "kernelspec": {
   "display_name": "geoai",
   "language": "python",
   "name": "python3"
  },
  "language_info": {
   "codemirror_mode": {
    "name": "ipython",
    "version": 3
   },
   "file_extension": ".py",
   "mimetype": "text/x-python",
   "name": "python",
   "nbconvert_exporter": "python",
   "pygments_lexer": "ipython3",
   "version": "3.10.12"
  },
  "orig_nbformat": 4
 },
 "nbformat": 4,
 "nbformat_minor": 2
}
