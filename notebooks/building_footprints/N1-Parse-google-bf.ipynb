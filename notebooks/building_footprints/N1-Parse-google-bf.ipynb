{
 "cells": [
  {
   "cell_type": "code",
   "execution_count": 2,
   "metadata": {},
   "outputs": [],
   "source": [
    "import geopandas as gpd\n",
    "import pandas as pd\n",
    "from shapely import wkt"
   ]
  },
  {
   "cell_type": "code",
   "execution_count": null,
   "metadata": {},
   "outputs": [],
   "source": []
  },
  {
   "cell_type": "code",
   "execution_count": 3,
   "metadata": {},
   "outputs": [
    {
     "data": {
      "text/html": [
       "<div>\n",
       "<style scoped>\n",
       "    .dataframe tbody tr th:only-of-type {\n",
       "        vertical-align: middle;\n",
       "    }\n",
       "\n",
       "    .dataframe tbody tr th {\n",
       "        vertical-align: top;\n",
       "    }\n",
       "\n",
       "    .dataframe thead th {\n",
       "        text-align: right;\n",
       "    }\n",
       "</style>\n",
       "<table border=\"1\" class=\"dataframe\">\n",
       "  <thead>\n",
       "    <tr style=\"text-align: right;\">\n",
       "      <th></th>\n",
       "      <th>latitude</th>\n",
       "      <th>longitude</th>\n",
       "      <th>area_in_meters</th>\n",
       "      <th>confidence</th>\n",
       "      <th>geometry</th>\n",
       "      <th>full_plus_code</th>\n",
       "    </tr>\n",
       "  </thead>\n",
       "  <tbody>\n",
       "    <tr>\n",
       "      <th>0</th>\n",
       "      <td>18.630017</td>\n",
       "      <td>72.909468</td>\n",
       "      <td>80.0773</td>\n",
       "      <td>0.8144</td>\n",
       "      <td>POLYGON ((72.90953 18.63003, 72.90946 18.63007...</td>\n",
       "      <td>7JCJJWJ5+2Q4Q</td>\n",
       "    </tr>\n",
       "    <tr>\n",
       "      <th>1</th>\n",
       "      <td>19.186698</td>\n",
       "      <td>72.862586</td>\n",
       "      <td>25.5554</td>\n",
       "      <td>0.7857</td>\n",
       "      <td>POLYGON ((72.86262 19.18669, 72.86262 19.18672...</td>\n",
       "      <td>7JFJ5VP7+M2GX</td>\n",
       "    </tr>\n",
       "    <tr>\n",
       "      <th>2</th>\n",
       "      <td>20.622816</td>\n",
       "      <td>73.188045</td>\n",
       "      <td>56.5130</td>\n",
       "      <td>0.7728</td>\n",
       "      <td>POLYGON ((73.18809 20.62279, 73.18808 20.62285...</td>\n",
       "      <td>7JGMJ5FQ+46FM</td>\n",
       "    </tr>\n",
       "    <tr>\n",
       "      <th>3</th>\n",
       "      <td>21.329828</td>\n",
       "      <td>72.624761</td>\n",
       "      <td>51.6077</td>\n",
       "      <td>0.7749</td>\n",
       "      <td>POLYGON ((72.62481 21.32982, 72.62477 21.32987...</td>\n",
       "      <td>7JHJ8JHF+WWJ3</td>\n",
       "    </tr>\n",
       "    <tr>\n",
       "      <th>4</th>\n",
       "      <td>20.389606</td>\n",
       "      <td>72.902981</td>\n",
       "      <td>147.4181</td>\n",
       "      <td>0.8703</td>\n",
       "      <td>POLYGON ((72.90304 20.38966, 72.90294 20.38967...</td>\n",
       "      <td>7JGJ9WQ3+R5X7</td>\n",
       "    </tr>\n",
       "  </tbody>\n",
       "</table>\n",
       "</div>"
      ],
      "text/plain": [
       "    latitude  longitude  area_in_meters  confidence  \\\n",
       "0  18.630017  72.909468         80.0773      0.8144   \n",
       "1  19.186698  72.862586         25.5554      0.7857   \n",
       "2  20.622816  73.188045         56.5130      0.7728   \n",
       "3  21.329828  72.624761         51.6077      0.7749   \n",
       "4  20.389606  72.902981        147.4181      0.8703   \n",
       "\n",
       "                                            geometry full_plus_code  \n",
       "0  POLYGON ((72.90953 18.63003, 72.90946 18.63007...  7JCJJWJ5+2Q4Q  \n",
       "1  POLYGON ((72.86262 19.18669, 72.86262 19.18672...  7JFJ5VP7+M2GX  \n",
       "2  POLYGON ((73.18809 20.62279, 73.18808 20.62285...  7JGMJ5FQ+46FM  \n",
       "3  POLYGON ((72.62481 21.32982, 72.62477 21.32987...  7JHJ8JHF+WWJ3  \n",
       "4  POLYGON ((72.90304 20.38966, 72.90294 20.38967...  7JGJ9WQ3+R5X7  "
      ]
     },
     "execution_count": 3,
     "metadata": {},
     "output_type": "execute_result"
    }
   ],
   "source": [
    "df = pd.read_csv('~/Downloads/3bf_buildings.csv.gz')\n",
    "df['geometry'] = df['geometry'].apply(wkt.loads)\n",
    "df = gpd.GeoDataFrame(df, geometry='geometry', crs=4326)\n",
    "df.head()"
   ]
  },
  {
   "cell_type": "code",
   "execution_count": null,
   "metadata": {},
   "outputs": [],
   "source": []
  },
  {
   "cell_type": "code",
   "execution_count": 5,
   "metadata": {},
   "outputs": [
    {
     "ename": "ImportError",
     "evalue": "Missing optional dependency 'pyarrow.feather'. pyarrow is required for Feather support.  \"\n        \"Use pip or conda to install pyarrow.feather.",
     "output_type": "error",
     "traceback": [
      "\u001b[0;31m---------------------------------------------------------------------------\u001b[0m",
      "\u001b[0;31mImportError\u001b[0m                               Traceback (most recent call last)",
      "Cell \u001b[0;32mIn[5], line 1\u001b[0m\n\u001b[0;32m----> 1\u001b[0m df\u001b[39m.\u001b[39mto_feather(\u001b[39m'\u001b[39m\u001b[39m/home/sandeep/workspace/data/building-footprints/3bf_buildings.feather\u001b[39m\u001b[39m'\u001b[39m)\n",
      "File \u001b[0;32m~/miniconda3/envs/geoai/lib/python3.11/site-packages/geopandas/geodataframe.py:1162\u001b[0m, in \u001b[0;36mGeoDataFrame.to_feather\u001b[0;34m(self, path, index, compression, schema_version, **kwargs)\u001b[0m\n\u001b[1;32m   1113\u001b[0m \u001b[39m\u001b[39m\u001b[39m\"\"\"Write a GeoDataFrame to the Feather format.\u001b[39;00m\n\u001b[1;32m   1114\u001b[0m \n\u001b[1;32m   1115\u001b[0m \u001b[39mAny geometry columns present are serialized to WKB format in the file.\u001b[39;00m\n\u001b[0;32m   (...)\u001b[0m\n\u001b[1;32m   1157\u001b[0m \u001b[39mGeoDataFrame.to_file : write GeoDataFrame to file\u001b[39;00m\n\u001b[1;32m   1158\u001b[0m \u001b[39m\"\"\"\u001b[39;00m\n\u001b[1;32m   1160\u001b[0m \u001b[39mfrom\u001b[39;00m \u001b[39mgeopandas\u001b[39;00m\u001b[39m.\u001b[39;00m\u001b[39mio\u001b[39;00m\u001b[39m.\u001b[39;00m\u001b[39marrow\u001b[39;00m \u001b[39mimport\u001b[39;00m _to_feather\n\u001b[0;32m-> 1162\u001b[0m _to_feather(\n\u001b[1;32m   1163\u001b[0m     \u001b[39mself\u001b[39m,\n\u001b[1;32m   1164\u001b[0m     path,\n\u001b[1;32m   1165\u001b[0m     index\u001b[39m=\u001b[39mindex,\n\u001b[1;32m   1166\u001b[0m     compression\u001b[39m=\u001b[39mcompression,\n\u001b[1;32m   1167\u001b[0m     schema_version\u001b[39m=\u001b[39mschema_version,\n\u001b[1;32m   1168\u001b[0m     \u001b[39m*\u001b[39m\u001b[39m*\u001b[39mkwargs,\n\u001b[1;32m   1169\u001b[0m )\n",
      "File \u001b[0;32m~/miniconda3/envs/geoai/lib/python3.11/site-packages/geopandas/io/arrow.py:373\u001b[0m, in \u001b[0;36m_to_feather\u001b[0;34m(df, path, index, compression, schema_version, **kwargs)\u001b[0m\n\u001b[1;32m    341\u001b[0m \u001b[39mdef\u001b[39;00m \u001b[39m_to_feather\u001b[39m(df, path, index\u001b[39m=\u001b[39m\u001b[39mNone\u001b[39;00m, compression\u001b[39m=\u001b[39m\u001b[39mNone\u001b[39;00m, schema_version\u001b[39m=\u001b[39m\u001b[39mNone\u001b[39;00m, \u001b[39m*\u001b[39m\u001b[39m*\u001b[39mkwargs):\n\u001b[1;32m    342\u001b[0m \u001b[39m    \u001b[39m\u001b[39m\"\"\"\u001b[39;00m\n\u001b[1;32m    343\u001b[0m \u001b[39m    Write a GeoDataFrame to the Feather format.\u001b[39;00m\n\u001b[1;32m    344\u001b[0m \n\u001b[0;32m   (...)\u001b[0m\n\u001b[1;32m    371\u001b[0m \u001b[39m        Additional keyword arguments passed to pyarrow.feather.write_feather().\u001b[39;00m\n\u001b[1;32m    372\u001b[0m \u001b[39m    \"\"\"\u001b[39;00m\n\u001b[0;32m--> 373\u001b[0m     feather \u001b[39m=\u001b[39m import_optional_dependency(\n\u001b[1;32m    374\u001b[0m         \u001b[39m\"\u001b[39m\u001b[39mpyarrow.feather\u001b[39m\u001b[39m\"\u001b[39m, extra\u001b[39m=\u001b[39m\u001b[39m\"\u001b[39m\u001b[39mpyarrow is required for Feather support.\u001b[39m\u001b[39m\"\u001b[39m\n\u001b[1;32m    375\u001b[0m     )\n\u001b[1;32m    376\u001b[0m     \u001b[39m# TODO move this into `import_optional_dependency`\u001b[39;00m\n\u001b[1;32m    377\u001b[0m     \u001b[39mimport\u001b[39;00m \u001b[39mpyarrow\u001b[39;00m\n",
      "File \u001b[0;32m~/miniconda3/envs/geoai/lib/python3.11/site-packages/geopandas/_compat.py:239\u001b[0m, in \u001b[0;36mimport_optional_dependency\u001b[0;34m(name, extra)\u001b[0m\n\u001b[1;32m    236\u001b[0m     module \u001b[39m=\u001b[39m importlib\u001b[39m.\u001b[39mimport_module(name)\n\u001b[1;32m    238\u001b[0m \u001b[39mexcept\u001b[39;00m \u001b[39mImportError\u001b[39;00m:\n\u001b[0;32m--> 239\u001b[0m     \u001b[39mraise\u001b[39;00m \u001b[39mImportError\u001b[39;00m(msg) \u001b[39mfrom\u001b[39;00m \u001b[39mNone\u001b[39;00m\n\u001b[1;32m    241\u001b[0m \u001b[39mreturn\u001b[39;00m module\n",
      "\u001b[0;31mImportError\u001b[0m: Missing optional dependency 'pyarrow.feather'. pyarrow is required for Feather support.  \"\n        \"Use pip or conda to install pyarrow.feather."
     ]
    }
   ],
   "source": [
    "df.to_feather('/home/sandeep/workspace/data/building-footprints/3bf_buildings.feather')"
   ]
  },
  {
   "cell_type": "code",
   "execution_count": null,
   "metadata": {},
   "outputs": [],
   "source": []
  },
  {
   "cell_type": "code",
   "execution_count": null,
   "metadata": {},
   "outputs": [],
   "source": []
  }
 ],
 "metadata": {
  "kernelspec": {
   "display_name": "geoai",
   "language": "python",
   "name": "python3"
  },
  "language_info": {
   "codemirror_mode": {
    "name": "ipython",
    "version": 3
   },
   "file_extension": ".py",
   "mimetype": "text/x-python",
   "name": "python",
   "nbconvert_exporter": "python",
   "pygments_lexer": "ipython3",
   "version": "3.11.4"
  },
  "orig_nbformat": 4
 },
 "nbformat": 4,
 "nbformat_minor": 2
}
